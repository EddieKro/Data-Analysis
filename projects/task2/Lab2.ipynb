{
 "cells": [
  {
   "cell_type": "code",
   "execution_count": 1,
   "metadata": {},
   "outputs": [],
   "source": [
    "import pandas as pd\n",
    "import numpy as np\n",
    "import seaborn as sns\n",
    "from scipy import stats\n",
    "data = pd.read_csv('data/res_evaluated.csv')\n",
    "\n",
    "pd.set_option('display.max_columns',200)"
   ]
  },
  {
   "cell_type": "markdown",
   "metadata": {},
   "source": [
    "1) В рамках тесту 1 сформулювати задачу розподілу мотивацій для свого курсів як задачу перевірки статистичних гіпотез про розподіл даних,  розв’язати вручну (Excel)  використати критерій Пірсона\n",
    "\n",
    "За допомогою критерію Пірсона перевіримо чи оцінки з 1го тесту для ПМ-4 розподілені нормально. Для цього створимо таблицю частот "
   ]
  },
  {
   "cell_type": "code",
   "execution_count": 2,
   "metadata": {},
   "outputs": [
    {
     "data": {
      "image/png": "[encoded data removed]",
      "text/plain": [
       "<Figure size 432x288 with 1 Axes>"
      ]
     },
     "metadata": {
      "needs_background": "light"
     },
     "output_type": "display_data"
    }
   ],
   "source": [
    "test1 = data[data['Курс']==4]['Test#1']\n",
    "sns.distplot(test1);"
   ]
  },
  {
   "cell_type": "code",
   "execution_count": 3,
   "metadata": {},
   "outputs": [
    {
     "name": "stdout",
     "output_type": "stream",
     "text": [
      "Observed frequencies:\n"
     ]
    },
    {
     "data": {
      "text/html": [
       "<div>\n",
       "<style scoped>\n",
       "    .dataframe tbody tr th:only-of-type {\n",
       "        vertical-align: middle;\n",
       "    }\n",
       "\n",
       "    .dataframe tbody tr th {\n",
       "        vertical-align: top;\n",
       "    }\n",
       "\n",
       "    .dataframe thead th {\n",
       "        text-align: right;\n",
       "    }\n",
       "</style>\n",
       "<table border=\"1\" class=\"dataframe\">\n",
       "  <thead>\n",
       "    <tr style=\"text-align: right;\">\n",
       "      <th></th>\n",
       "      <th>interval</th>\n",
       "      <th>freq</th>\n",
       "    </tr>\n",
       "  </thead>\n",
       "  <tbody>\n",
       "    <tr>\n",
       "      <th>0</th>\n",
       "      <td>0</td>\n",
       "      <td>0</td>\n",
       "    </tr>\n",
       "    <tr>\n",
       "      <th>1</th>\n",
       "      <td>5</td>\n",
       "      <td>3</td>\n",
       "    </tr>\n",
       "    <tr>\n",
       "      <th>2</th>\n",
       "      <td>10</td>\n",
       "      <td>20</td>\n",
       "    </tr>\n",
       "    <tr>\n",
       "      <th>3</th>\n",
       "      <td>15</td>\n",
       "      <td>6</td>\n",
       "    </tr>\n",
       "  </tbody>\n",
       "</table>\n",
       "</div>"
      ],
      "text/plain": [
       "   interval  freq\n",
       "0         0     0\n",
       "1         5     3\n",
       "2        10    20\n",
       "3        15     6"
      ]
     },
     "execution_count": 3,
     "metadata": {},
     "output_type": "execute_result"
    }
   ],
   "source": [
    "bins = np.arange(0,20,5)\n",
    "mapped_bins = np.digitize(test1,bins,right=False)\n",
    "grouped_test1 = test1.groupby(by=mapped_bins).count()\n",
    "grouped_test1[1]=0\n",
    "grouped_test1.sort_index(inplace=True)\n",
    "\n",
    "test1_data = pd.DataFrame(np.array([bins,grouped_test1.values]).T,columns=['interval','freq'])\n",
    "test1_h,test1_c = 5,12\n",
    "print(\"Observed frequencies:\")\n",
    "test1_data"
   ]
  },
  {
   "cell_type": "code",
   "execution_count": 4,
   "metadata": {},
   "outputs": [
    {
     "name": "stdout",
     "output_type": "stream",
     "text": [
      "custom chi_2=22.424820220293732\n",
      "Scipy stats alternative: Power_divergenceResult(statistic=22.424820220293732, pvalue=0.0004346526839824956)\n",
      "chi^2_critical = 12.591587243743977\n"
     ]
    }
   ],
   "source": [
    "#Chi squared custom calculator\n",
    "class Xi_squared_calculator:\n",
    "    def calculate_x_dash(self,x):\n",
    "        return (x-self.c)/self.h\n",
    "    \n",
    "    def __init__(self,data, h, c):\n",
    "        \"\"\"\n",
    "            data -- pd.DataFrame [interval, freq]\n",
    "        \"\"\"\n",
    "        self.data = data\n",
    "        self.h,self.c = h,c\n",
    "\n",
    "        self.size = self.data.freq.sum()\n",
    "        self.data_transformed = self.transform_data()\n",
    "        \n",
    "        self.dash_mean, self.dash_var = self.dash_moments()\n",
    "        self.empirical_mean, self.empirical_var, self.empirical_std = self.empirical_moments()\n",
    "        \n",
    "        self.tf_df = self.theoretical_freq_table()#theoretical freq\n",
    "        self.chi_df = self.chi_observed_table()\n",
    "        \n",
    "        self.chi_approx = self.chi_df.chi.sum()\n",
    "        \n",
    "    def transform_data(self):\n",
    "        data_transformed = self.data.assign(\n",
    "            x_dash=lambda x: self.calculate_x_dash(x.interval),\n",
    "            x_dash_freq = lambda x: x.x_dash*x.freq,\n",
    "            x_dash_freq_squared = lambda x: x.x_dash_freq * x.x_dash)        \n",
    "        return data_transformed\n",
    "        \n",
    "    def dash_moments(self):\n",
    "        dash_mean = self.data_transformed.x_dash_freq.sum()/self.size\n",
    "        dash_var = self.data_transformed.x_dash_freq_squared.sum()/self.size - dash_mean**2\n",
    "        return dash_mean,dash_var\n",
    "    \n",
    "    def empirical_moments(self):\n",
    "        empricial_mean = self.dash_mean * self.h + self.c\n",
    "        empirical_var = self.dash_var * self.h**2\n",
    "        return empricial_mean,empirical_var, np.sqrt(empirical_var)\n",
    "            \n",
    "    def theoretical_freq_table(self):\n",
    "        k = self.size * self.h / self.empirical_std\n",
    "        tf_df = pd.DataFrame(self.data.interval)\n",
    "        tf_df = tf_df.assign(\n",
    "            u = lambda x: (x - self.empirical_mean) / self.empirical_std,\n",
    "            phi = lambda x: stats.norm.pdf(x.u),\n",
    "            n_i = lambda x: k * x.phi)\n",
    "        return tf_df\n",
    "    \n",
    "    def chi_observed_table(self):\n",
    "        chi_df = pd.DataFrame(np.array([self.data_transformed.freq, self.tf_df.n_i]).T, columns=['observed_freq','theor_freq'])\n",
    "        chi_df = chi_df.assign(\n",
    "            diff = lambda x: (x.observed_freq - x.theor_freq),\n",
    "            diff_squared =  lambda x: x['diff'] **2,\n",
    "            chi = lambda x: x.diff_squared / x.theor_freq)        \n",
    "        return chi_df\n",
    "    \n",
    "    \n",
    "    def get_chi_approx(self):\n",
    "        return self.chi_approx\n",
    "\n",
    "#Приклад з лекції:\n",
    "test_df =  pd.DataFrame(np.array([np.arange(5,22,2),np.array([15,26,25,30,26,21,24,20,13])]).T, columns=['interval','freq'])\n",
    "\n",
    "c2p = Xi_squared_calculator(test_df,2,13)\n",
    "print(f'custom chi_2={c2p.chi_approx}')\n",
    "print(f'Scipy stats alternative: {stats.chisquare(c2p.chi_df.observed_freq,c2p.chi_df.theor_freq,ddof = 3)}')\n",
    "print(f'chi^2_critical = {stats.chi2.ppf(0.95,9-3)}')"
   ]
  },
  {
   "cell_type": "code",
   "execution_count": 5,
   "metadata": {},
   "outputs": [
    {
     "name": "stdout",
     "output_type": "stream",
     "text": [
      "chi^2_observed = 0.10043218315783131 with chi_2_critical=3.841458820694124\n",
      "Power_divergenceResult(statistic=0.10043218315783131, pvalue=nan)\n",
      "Пораховане значення повністю співпадає з тестом з бібліотеки та менше за критичне значення Ксі квадрат\n",
      "p-value=0.2791>0.05=alpha-рівень значущості\n",
      "Не можемо відхилити гіпотезу про нормальність\n"
     ]
    }
   ],
   "source": [
    "c2p = Xi_squared_calculator(test1_data,test1_h,test1_c)\n",
    "print(f'chi^2_observed = {c2p.chi_approx} with chi_2_critical={stats.chi2.ppf(0.95,1)}')\n",
    "print(stats.chisquare(c2p.chi_df.observed_freq, c2p.chi_df.theor_freq,ddof=3))\n",
    "print(f'Пораховане значення повністю співпадає з тестом з бібліотеки та менше за критичне значення Ксі квадрат\\np-value={stats.chi2.sf(stats.chi2.ppf(0.95,1),3):.4f}>0.05=alpha-рівень значущості\\nНе можемо відхилити гіпотезу про нормальність')"
   ]
  },
  {
   "cell_type": "markdown",
   "metadata": {},
   "source": [
    "2) В рамках тесту 2 сформулювати задачу порівняння мотивацій для різних курсів як задачу перевірки статистичних гіпотез про однорідність даних, розв’язати вручну (Excel), використати: \n",
    "*  Т-критерій Стьюдента \n",
    "\n",
    "Припустимо, що розподіли мотивацій другого тесту для 2го та 4го курсів ПМ мають однакове матсподівання. Перевіримо це за допомогою Т-критерію:\n",
    "Сформулюємо гіпотези: \n",
    "*  H0: $E(a_1) = E(a_2)$ (вибірки є однаковими)\n",
    "*  H1: $E(a_1)\\ne E(a_2)$"
   ]
  },
  {
   "cell_type": "code",
   "execution_count": 6,
   "metadata": {},
   "outputs": [
    {
     "name": "stdout",
     "output_type": "stream",
     "text": [
      "29 seniors with mean=10.0690 and variance=3.4236\n",
      "29 sophomores with mean=10.2759 and variance = 3.9212\n"
     ]
    }
   ],
   "source": [
    "seniors = data.loc[data['Курс']==4]['Test#2: Аналіз даних']\n",
    "sophomores = data.loc[data['Курс']==2]['Test#2: Аналіз даних']\n",
    "print(f'{seniors.size} seniors with mean={seniors.mean():.4f} and variance={seniors.var():.4f}')\n",
    "print(f'{sophomores.size} sophomores with mean={sophomores.mean():.4f} and variance = {sophomores.var():.4f}')"
   ]
  },
  {
   "cell_type": "code",
   "execution_count": 7,
   "metadata": {},
   "outputs": [
    {
     "name": "stdout",
     "output_type": "stream",
     "text": [
      "empirical error=0.1492<2.0032=theoretical error. H0 cannot be rejected\n",
      " Не можемо відхилити H0\n"
     ]
    }
   ],
   "source": [
    "def empirical_error(x,y,k=2):\n",
    "    n,m = x.size, y.size\n",
    "    \n",
    "    coef1 = np.sqrt(n*m/n+m)\n",
    "    coef2 = np.sqrt( (n-1)*x.var()+ (m-1)*y.var() / (n+m-k))\n",
    "    \n",
    "    return coef1 * (x.mean()-y.mean())/ coef2\n",
    "\n",
    "theoretical_error = stats.t.ppf(0.975,sophomores.shape[0]*2-2)\n",
    "print(f'empirical error={empirical_error(sophomores,seniors):.4f}<{theoretical_error:.4f}=theoretical error. H0 cannot be rejected\\n Не можемо відхилити H0')"
   ]
  },
  {
   "cell_type": "markdown",
   "metadata": {},
   "source": [
    "*  Критерій знаків \n",
    "\n",
    "Перевіримо гіпотези: \n",
    "*  H0: $a_1 = a_2$ (вибірки є однаковими)\n",
    "*  H1: $a_1\\ne a_2$"
   ]
  },
  {
   "cell_type": "code",
   "execution_count": 8,
   "metadata": {},
   "outputs": [
    {
     "data": {
      "text/html": [
       "<div>\n",
       "<style scoped>\n",
       "    .dataframe tbody tr th:only-of-type {\n",
       "        vertical-align: middle;\n",
       "    }\n",
       "\n",
       "    .dataframe tbody tr th {\n",
       "        vertical-align: top;\n",
       "    }\n",
       "\n",
       "    .dataframe thead th {\n",
       "        text-align: right;\n",
       "    }\n",
       "</style>\n",
       "<table border=\"1\" class=\"dataframe\">\n",
       "  <thead>\n",
       "    <tr style=\"text-align: right;\">\n",
       "      <th></th>\n",
       "      <th>second_year</th>\n",
       "      <th>forth_year</th>\n",
       "      <th>sign</th>\n",
       "    </tr>\n",
       "  </thead>\n",
       "  <tbody>\n",
       "    <tr>\n",
       "      <th>0</th>\n",
       "      <td>11</td>\n",
       "      <td>9</td>\n",
       "      <td>1</td>\n",
       "    </tr>\n",
       "    <tr>\n",
       "      <th>1</th>\n",
       "      <td>10</td>\n",
       "      <td>7</td>\n",
       "      <td>1</td>\n",
       "    </tr>\n",
       "    <tr>\n",
       "      <th>2</th>\n",
       "      <td>10</td>\n",
       "      <td>9</td>\n",
       "      <td>1</td>\n",
       "    </tr>\n",
       "    <tr>\n",
       "      <th>3</th>\n",
       "      <td>9</td>\n",
       "      <td>9</td>\n",
       "      <td>0</td>\n",
       "    </tr>\n",
       "    <tr>\n",
       "      <th>4</th>\n",
       "      <td>8</td>\n",
       "      <td>9</td>\n",
       "      <td>-1</td>\n",
       "    </tr>\n",
       "  </tbody>\n",
       "</table>\n",
       "</div>"
      ],
      "text/plain": [
       "   second_year  forth_year  sign\n",
       "0           11           9     1\n",
       "1           10           7     1\n",
       "2           10           9     1\n",
       "3            9           9     0\n",
       "4            8           9    -1"
      ]
     },
     "execution_count": 8,
     "metadata": {},
     "output_type": "execute_result"
    }
   ],
   "source": [
    "def f1(r,k):\n",
    "    return r/(k-r+1)\n",
    "\n",
    "def f1_theor(r,size):\n",
    "    return stats.f.ppf(0.975,2*(size-r+1),2*r)\n",
    "\n",
    "def f2(r,k):\n",
    "    return (k-r)/(r+1)\n",
    "\n",
    "def f2_theor(r,k):\n",
    "    return stats.f.ppf(0.975,2*(r+1),2*(k-r))\n",
    "\n",
    "df = pd.DataFrame(np.array([sophomores,seniors]).T, columns=['second_year','forth_year'])\n",
    "df = df.assign(sign = lambda x: np.sign(x.second_year-x.forth_year))\n",
    "k = df[df.sign!=0].shape[0]\n",
    "r = df[df.sign>0].shape[0]\n",
    "df[:5]"
   ]
  },
  {
   "cell_type": "code",
   "execution_count": 9,
   "metadata": {},
   "outputs": [
    {
     "name": "stdout",
     "output_type": "stream",
     "text": [
      "positives=17\n",
      "negatives=1\n",
      "f1=1.4167<f1_theor=2.0509\n",
      "f2=0.6111<f2_theor=2.230700045743092\n",
      "f-Статистика для обох величин менша за теоретичний рівень значущості. Не можемо відхилити гіпотезу H0\n"
     ]
    }
   ],
   "source": [
    "print(f'positives={r}\\nnegatives={df.shape[0]-k}\\nf1={f1(r,k):.4f}<f1_theor={f1_theor(r,df.shape[0]):.4f}\\nf2={f2(r,k):.4f}<f2_theor={f2_theor(r,k)}\\nf-Статистика для обох величин менша за теоретичний рівень значущості. Не можемо відхилити гіпотезу H0')"
   ]
  },
  {
   "cell_type": "markdown",
   "metadata": {},
   "source": [
    "*  критерій Вілкоксона \n",
    " \n",
    "Перевіримо гіпотезу про змішаність виборок розподілів мотивації в 2му тесті для ПМ-2 та ПМ-4 та рівність їх генеральних середніх"
   ]
  },
  {
   "cell_type": "code",
   "execution_count": 10,
   "metadata": {},
   "outputs": [
    {
     "name": "stdout",
     "output_type": "stream",
     "text": [
      "empirical rank=872.0,theoretical rank=729.4655,upper_bound=923.5345\n",
      "Можемо прийняти гіпотезу\n"
     ]
    }
   ],
   "source": [
    "def calculate_ranks(x):\n",
    "    k2indices = {}\n",
    "    for i,el in enumerate(x):\n",
    "        if el in k2indices:\n",
    "            k2indices[el].append(i+1)\n",
    "        else:\n",
    "            k2indices[el]=[i+1]\n",
    "    key2rank = {k:sum(k2indices[k])/len(k2indices[k]) for k in k2indices.keys()}\n",
    "    return k2indices,key2rank\n",
    "\n",
    "def calculate_total_rank(k2r, x):\n",
    "    return sum(k2r[el] for el in x)\n",
    "\n",
    "def empirical_rank(x,y):\n",
    "    joined_arr = np.sort(np.concatenate((x.values,y.values)))\n",
    "    if x.size>y.size:\n",
    "        x,y=y,x\n",
    "    \n",
    "    key2rank = calculate_ranks(joined_arr)[1]\n",
    "    return calculate_total_rank(key2rank,x)\n",
    "\n",
    "def theoretical_rank(x,y,z_a=-1.96):\n",
    "    n,m=x.size, y.size\n",
    "\n",
    "    return n*(n+m+1)/2 + z_a*np.sqrt(n*m*(n+m+1)/12)\n",
    "\n",
    "def theoretical_interval(x,y):\n",
    "    n,m = x.size,y.size\n",
    "    return n*(n+m-1)\n",
    "\n",
    "em_rank = empirical_rank(sophomores,seniors)\n",
    "th_rank = theoretical_rank(sophomores,seniors)\n",
    "th_int = theoretical_interval(sophomores,seniors)\n",
    "print(f'empirical rank={em_rank},theoretical rank={th_rank:.4f},upper_bound={th_int-th_rank:.4f}\\nМожемо прийняти гіпотезу')"
   ]
  },
  {
   "cell_type": "markdown",
   "metadata": {},
   "source": [
    "* критерій Мана-Уітні.\n",
    "\n",
    "Перевіримо гіпотезу про достовірність відмінностей між значеннями параметрів у вибірках результатів 2го тесту на мотивацію для студентів ПМ-2 та ПМ-4\n",
    "* Зауважимо, що n>20, отже таблицю критичних значень використовувати не можемо. Натомість, обчислимо p-value"
   ]
  },
  {
   "cell_type": "code",
   "execution_count": 11,
   "metadata": {},
   "outputs": [
    {
     "name": "stdout",
     "output_type": "stream",
     "text": [
      "U=404.0, p_val=0.39699453831249776<0.5=alpha - рівень значущості\n",
      "Результат співпадає з бібліотекою: MannwhitneyuResult(statistic=404.0, pvalue=0.39699453831249776)\n",
      "Не можемо прийняти гіпотезу\n"
     ]
    }
   ],
   "source": [
    "def mann_whitney_u_test(x,y):\n",
    "    n,m = x.shape[0],y.shape[0]\n",
    "    \n",
    "    joined_arr = np.sort(np.concatenate((x.values,y.values)))\n",
    "    key2rank = calculate_ranks(joined_arr)[1]\n",
    "    x_rank,y_rank = calculate_total_rank(key2rank,x), calculate_total_rank(key2rank,y)\n",
    "    \n",
    "    if x_rank>=y_rank:\n",
    "        max_rank,n_max = x_rank, n\n",
    "    else:\n",
    "        max_rank,n_max = y_rank,m\n",
    "    \n",
    "    U = n*m + n_max*(n_max+1)*0.5 - max_rank\n",
    "    return U\n",
    "\n",
    "def calc_p_val(U,x,y):   \n",
    "    n1,n2 = x.shape[0],y.shape[0]\n",
    "    mean_rank = n1*n2/2\n",
    "    \n",
    "    T = stats.tiecorrect(np.sort(np.concatenate((sophomores.values,seniors.values))))\n",
    "    \n",
    "    sd = np.sqrt(T * n1 * n2 * (n1+n2+1) / 12.0)\n",
    "    z= (U-mean_rank)/sd\n",
    "    return 1-stats.distributions.norm.sf(z)\n",
    "\n",
    "def mann_whitney_crit_values(x,y):\n",
    "    n1,n2 = x.shape[0], y.shape[0]\n",
    "    U = mann_whitney_u_test(x,y)\n",
    "        \n",
    "    return abs(U-n1*n2*0.5)/np.sqrt(n1*n2*(n1+n2+1)/12)\n",
    "\n",
    "U = mann_whitney_u_test(sophomores,seniors)\n",
    "print(f'U={U}, p_val={calc_p_val(U,sophomores,seniors)}<0.5=alpha - рівень значущості')\n",
    "print(f'Результат співпадає з бібліотекою: {stats.mannwhitneyu(sophomores,seniors,use_continuity=False)}\\nНе можемо прийняти гіпотезу')"
   ]
  },
  {
   "cell_type": "markdown",
   "metadata": {},
   "source": [
    "3) висновок в предметній області.\n",
    "\n",
    "Ми сформували та перевірили наступні гіпотези:\n",
    "* нормальність оцінки з першого тесту для ПМ-4. Перевіряли за допомогою Хі-критерію, не можемо відхилити нульову гіпотезу\n",
    "* Однорідність розподілів оцінок з 2го тесту для ПМ-2 та ПМ-4. (рівність їхніх мат. сподівань) За Критерієм Стюдента, вибірки є однаковими (не можемо відхилити H0)\n",
    "* Однорідність розподілів оцінок з 2го тесту для ПМ-2 та ПМ-4. За Критерієм знаків, так само не можемо відхилити цю гіпотезу.\n",
    "* Рівність матсподівань тих самих оцінок за критерієм Вілкоксона: обчислене емпірічне значення W входить до теор. інтервалу прийняття гіпотези (ближче до верхньої межі). Так само не можемо відхилити H0\n",
    "* Достовірність відмінностей між вибірками (оцінки з 2го тесту для ПМ-2 та ПМ-4) за критерієм Манна-Уітні. Через розмір вибірки не можемо використовувати табличні критичні значення, отриманий p-value дозволяє не прийняти нуль-гіпотезу.\n",
    "\n",
    "Отже, за даними стат. критеріями, не можемо відхилити гіпотези про нормальність оцінок з 1го тесту для ПМ-4 та про однорідність розподілів оцінок з другого тесту для ПМ-2 та ПМ-4"
   ]
  }
 ],
 "metadata": {
  "kernelspec": {
   "display_name": "Python 3",
   "language": "python",
   "name": "python3"
  },
  "language_info": {
   "codemirror_mode": {
    "name": "ipython",
    "version": 3
   },
   "file_extension": ".py",
   "mimetype": "text/x-python",
   "name": "python",
   "nbconvert_exporter": "python",
   "pygments_lexer": "ipython3",
   "version": "3.7.3"
  }
 },
 "nbformat": 4,
 "nbformat_minor": 4
}
