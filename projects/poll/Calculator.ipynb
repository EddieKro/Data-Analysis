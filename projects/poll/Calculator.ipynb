{
 "cells": [
  {
   "cell_type": "code",
   "execution_count": 167,
   "metadata": {},
   "outputs": [],
   "source": [
    "import numpy as np\n",
    "import seaborn as sns"
   ]
  },
  {
   "cell_type": "code",
   "execution_count": 169,
   "metadata": {},
   "outputs": [
    {
     "data": {
      "text/plain": [
       "array([[-0.11962979, -0.86227475,  1.96384866,  0.15010848],\n",
       "       [-0.57963946, -1.02943437,  0.00507811, -0.17500545],\n",
       "       [ 0.61342982,  1.59449754,  0.32102294, -1.43607139],\n",
       "       [-0.5324108 , -0.67918184,  0.04488691, -0.60798711]])"
      ]
     },
     "execution_count": 169,
     "metadata": {},
     "output_type": "execute_result"
    }
   ],
   "source": [
    "test = np.random.normal(size=(4,4))\n",
    "test"
   ]
  },
  {
   "cell_type": "code",
   "execution_count": 177,
   "metadata": {},
   "outputs": [
    {
     "data": {
      "text/plain": [
       "array([ 0.28301315, -0.44475029,  0.27321973, -0.44367321])"
      ]
     },
     "execution_count": 177,
     "metadata": {},
     "output_type": "execute_result"
    }
   ],
   "source": [
    "test.mean(axis=1)"
   ]
  },
  {
   "cell_type": "code",
   "execution_count": 152,
   "metadata": {},
   "outputs": [],
   "source": [
    "def mean(X):\n",
    "    return X.sum()/X.size"
   ]
  },
  {
   "cell_type": "code",
   "execution_count": 153,
   "metadata": {},
   "outputs": [],
   "source": [
    "def expected_value(X):\n",
    "    \"\"\"\n",
    "    X - np.ndarray of\n",
    "    \"\"\"\n",
    "    if isinstance(X,np.ndarray):\n",
    "        return X.mean(axis=1)\n",
    "\n",
    "    return X.mean()\n",
    "\n",
    "def variance(X,mean):\n",
    "    return np.power((X-mean),2).sum()\n",
    "\n",
    "def mode(X):\n",
    "    #bincount @ positive\n",
    "    pass\n",
    "\n",
    "def median_1D(X):\n",
    "    X = sorted(X)\n",
    "    if X.size%2==0:\n",
    "        return (X[X.size//2-1]+X[X.size//2])*0.5\n",
    "\n",
    "    return X[X.size//2]\n",
    "    \n",
    "def median(X):\n",
    "    return X.mean(axis=1)"
   ]
  },
  {
   "cell_type": "code",
   "execution_count": 154,
   "metadata": {},
   "outputs": [],
   "source": [
    "median_vectorized = np.vectorize(median_1D)"
   ]
  },
  {
   "cell_type": "code",
   "execution_count": 155,
   "metadata": {},
   "outputs": [],
   "source": [
    "def skewness(X):\n",
    "    mu = mean(X)\n",
    "    std = variance(X,mu)**0.5\n",
    "    return mean((X-mu)**3/(std)**3)"
   ]
  },
  {
   "cell_type": "code",
   "execution_count": 158,
   "metadata": {},
   "outputs": [],
   "source": [
    "def kurtosis(X):\n",
    "    mu = mean(X)\n",
    "    std = variance(X,mu)**0.5\n",
    "    return mean((X-mu)**4/std**4)-3"
   ]
  },
  {
   "cell_type": "code",
   "execution_count": 165,
   "metadata": {},
   "outputs": [
    {
     "data": {
      "text/plain": [
       "(0.0022281472860499864, -2.9971033851641415)"
      ]
     },
     "execution_count": 165,
     "metadata": {},
     "output_type": "execute_result"
    }
   ],
   "source": [
    "skewness(test), kurtosis(test)"
   ]
  },
  {
   "cell_type": "code",
   "execution_count": 166,
   "metadata": {},
   "outputs": [
    {
     "data": {
      "text/plain": [
       "<matplotlib.axes._subplots.AxesSubplot at 0x2d26b70fac8>"
      ]
     },
     "execution_count": 166,
     "metadata": {},
     "output_type": "execute_result"
    },
    {
     "data": {
      "image/png": "[encoded data removed]",
      "text/plain": [
       "<Figure size 432x288 with 1 Axes>"
      ]
     },
     "metadata": {
      "needs_background": "light"
     },
     "output_type": "display_data"
    }
   ],
   "source": [
    "sns.distplot(test)"
   ]
  },
  {
   "cell_type": "code",
   "execution_count": null,
   "metadata": {},
   "outputs": [],
   "source": []
  }
 ],
 "metadata": {
  "kernelspec": {
   "display_name": "Python 3",
   "language": "python",
   "name": "python3"
  },
  "language_info": {
   "codemirror_mode": {
    "name": "ipython",
    "version": 3
   },
   "file_extension": ".py",
   "mimetype": "text/x-python",
   "name": "python",
   "nbconvert_exporter": "python",
   "pygments_lexer": "ipython3",
   "version": "3.7.3"
  }
 },
 "nbformat": 4,
 "nbformat_minor": 4
}
