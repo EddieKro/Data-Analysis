{
 "cells": [
  {
   "cell_type": "code",
   "execution_count": 1,
   "metadata": {},
   "outputs": [],
   "source": [
    "import math\n",
    "import warnings\n",
    "import numpy as np\n",
    "import pandas as pd\n",
    "import seaborn as sns\n",
    "from scipy import stats\n",
    "pd.set_option('max_rows',200)\n",
    "pd.set_option('max_columns',200)\n",
    "warnings.filterwarnings('ignore')\n",
    "from itertools import combinations  \n",
    "from bisect import bisect_left, bisect_right"
   ]
  },
  {
   "cell_type": "code",
   "execution_count": 2,
   "metadata": {},
   "outputs": [
    {
     "name": "stdout",
     "output_type": "stream",
     "text": [
      "Number of respondents:  103\n"
     ]
    },
    {
     "data": {
      "text/html": [
       "<div>\n",
       "<style scoped>\n",
       "    .dataframe tbody tr th:only-of-type {\n",
       "        vertical-align: middle;\n",
       "    }\n",
       "\n",
       "    .dataframe tbody tr th {\n",
       "        vertical-align: top;\n",
       "    }\n",
       "\n",
       "    .dataframe thead th {\n",
       "        text-align: right;\n",
       "    }\n",
       "</style>\n",
       "<table border=\"1\" class=\"dataframe\">\n",
       "  <thead>\n",
       "    <tr style=\"text-align: right;\">\n",
       "      <th></th>\n",
       "      <th>Test#1</th>\n",
       "      <th>Предмет#2</th>\n",
       "      <th>Назва предмету, який вважаєш проф-орієнтованим</th>\n",
       "      <th>Test#2: Гуманітарний предмет</th>\n",
       "      <th>Test#2: Аналіз даних</th>\n",
       "      <th>Курс</th>\n",
       "      <th>Професійні мотиви</th>\n",
       "      <th>Соціальні мотиви</th>\n",
       "    </tr>\n",
       "  </thead>\n",
       "  <tbody>\n",
       "    <tr>\n",
       "      <th>0</th>\n",
       "      <td>13</td>\n",
       "      <td>81</td>\n",
       "      <td>мат. аналіз</td>\n",
       "      <td>9</td>\n",
       "      <td>13</td>\n",
       "      <td>1</td>\n",
       "      <td>3.6667</td>\n",
       "      <td>2.4</td>\n",
       "    </tr>\n",
       "    <tr>\n",
       "      <th>1</th>\n",
       "      <td>15</td>\n",
       "      <td>94</td>\n",
       "      <td>дискр. математика</td>\n",
       "      <td>7</td>\n",
       "      <td>13</td>\n",
       "      <td>1</td>\n",
       "      <td>3.1667</td>\n",
       "      <td>2.6</td>\n",
       "    </tr>\n",
       "    <tr>\n",
       "      <th>2</th>\n",
       "      <td>14</td>\n",
       "      <td>91</td>\n",
       "      <td>програмування</td>\n",
       "      <td>9</td>\n",
       "      <td>9</td>\n",
       "      <td>1</td>\n",
       "      <td>3.3333</td>\n",
       "      <td>3.0</td>\n",
       "    </tr>\n",
       "    <tr>\n",
       "      <th>3</th>\n",
       "      <td>9</td>\n",
       "      <td>91</td>\n",
       "      <td>програмування</td>\n",
       "      <td>8</td>\n",
       "      <td>8</td>\n",
       "      <td>1</td>\n",
       "      <td>3.1667</td>\n",
       "      <td>3.0</td>\n",
       "    </tr>\n",
       "    <tr>\n",
       "      <th>4</th>\n",
       "      <td>14</td>\n",
       "      <td>77</td>\n",
       "      <td>мат. аналіз</td>\n",
       "      <td>9</td>\n",
       "      <td>10</td>\n",
       "      <td>1</td>\n",
       "      <td>3.6667</td>\n",
       "      <td>2.4</td>\n",
       "    </tr>\n",
       "  </tbody>\n",
       "</table>\n",
       "</div>"
      ],
      "text/plain": [
       "   Test#1  Предмет#2 Назва предмету, який вважаєш проф-орієнтованим  \\\n",
       "0      13         81                                    мат. аналіз   \n",
       "1      15         94                              дискр. математика   \n",
       "2      14         91                                  програмування   \n",
       "3       9         91                                  програмування   \n",
       "4      14         77                                    мат. аналіз   \n",
       "\n",
       "   Test#2: Гуманітарний предмет  Test#2: Аналіз даних  Курс  \\\n",
       "0                             9                    13     1   \n",
       "1                             7                    13     1   \n",
       "2                             9                     9     1   \n",
       "3                             8                     8     1   \n",
       "4                             9                    10     1   \n",
       "\n",
       "   Професійні мотиви  Соціальні мотиви  \n",
       "0             3.6667               2.4  \n",
       "1             3.1667               2.6  \n",
       "2             3.3333               3.0  \n",
       "3             3.1667               3.0  \n",
       "4             3.6667               2.4  "
      ]
     },
     "execution_count": 2,
     "metadata": {},
     "output_type": "execute_result"
    }
   ],
   "source": [
    "data = pd.read_csv('converted.csv')\n",
    "data.rename(columns={'Test#2: Технології прикладного програмування':'Test#2: Гуманітарний предмет'}, inplace=True) ##remove this line\n",
    "data = data[['Test#1', 'Предмет#2', 'Назва предмету, який вважаєш проф-орієнтованим', 'Test#2: Гуманітарний предмет', 'Test#2: Аналіз даних', \n",
    "             'Курс', 'Професійні мотиви', 'Соціальні мотиви']]\n",
    "data.head()"
   ]
  },
  {
   "cell_type": "code",
   "execution_count": 3,
   "metadata": {},
   "outputs": [],
   "source": [
    "math_sub = ['мат. аналіз', 'лінійна алгебра','ятдр','дискр. математика','математична економіка', 'статистичні основи вебаналітики', 'обчислювальна геометрія', 'тймс', 'любий предмет міхалича']\n",
    "test_1_data = data.loc[data['Назва предмету, який вважаєш проф-орієнтованим'].isin(math_sub)][['Test#1', 'Предмет#2']]"
   ]
  },
  {
   "cell_type": "markdown",
   "metadata": {},
   "source": [
    "# 1. Знайти вибіркові коефіцієнту кореляції \n",
    " - Пірсона\n",
    " - Спірмена\n",
    " - Кенделла \n",
    "\n",
    "та перевірити їхню значущість за допомогою параметричного критерію Пірсона та непараметричних Спірмена та Кенделла."
   ]
  },
  {
   "cell_type": "code",
   "execution_count": 4,
   "metadata": {},
   "outputs": [],
   "source": [
    "def mean(x):\n",
    "    sum = 0.0\n",
    "    for i in x:\n",
    "         sum += i\n",
    "    return sum / len(x) \n",
    "\n",
    "def std(x):\n",
    "    sum_v = 0.0\n",
    "    for i in x:\n",
    "         sum_v += (i - mean(x))**2\n",
    "    return math.sqrt(sum_v/ (len(x) - 1))\n",
    "\n",
    "def covariance(x, y):\n",
    "    X = np.column_stack([x, y])\n",
    "    X -= X.mean(axis=0) \n",
    "    fact = len(x) - 1 \n",
    "    cov = np.dot(X.T, X.conj()) / fact\n",
    "    return cov\n",
    "    \n",
    "def pearson_pvalue(n, r):\n",
    "    t = (r * math.sqrt(n - 2)) / (math.sqrt(1 - r ** 2))\n",
    "    res = stats.t.cdf(t, n - 2)\n",
    "    return res\n",
    "    \n",
    "def pearson(x, y):\n",
    "    res_x = []\n",
    "    res_y = []\n",
    "    for i in x: \n",
    "        val_x = (i - mean(x)) / std(x)\n",
    "        res_x.append(val_x) \n",
    "    for j in y:\n",
    "        val_y = (j - mean(y)) / std(y)\n",
    "        res_y.append(val_y)\n",
    "    res = (sum([i*j for i,j in zip(res_x,res_y)]))/(len(x)-1)\n",
    "    return res, pearson_pvalue(len(x), res)\n",
    "\n",
    "def spearman(x, y):\n",
    "    rank_x = stats.rankdata(x)\n",
    "    rank_y = stats.rankdata(y)\n",
    "    cov = covariance(rank_x, rank_y)[0][1]\n",
    "    res = cov / (std(rank_x) * std(rank_y))\n",
    "    return res, None\n",
    "\n",
    "def kendall(x, y):\n",
    "    conc, disc, ties = 0, 0, 0\n",
    "    for i in range(len(x)):\n",
    "        for j in range(len(y)):\n",
    "            if ((x[i] > x[j] and y[i] > y[j]) or (x[i] < x[j] and y[i] < y[j])):\n",
    "                conc += 1\n",
    "            elif ((x[i] < x[j] and y[i] > y[j]) or (x[i] > x[j] and y[i] < y[j])): \n",
    "                disc += 1\n",
    "            else:\n",
    "                  continue\n",
    "    res_conc = conc/2\n",
    "    res_disc = disc / 2\n",
    "    n = len(x)\n",
    "    res = (res_conc - res_disc) / (n * (n - 1) / 2)\n",
    "    return res, None"
   ]
  },
  {
   "cell_type": "code",
   "execution_count": 6,
   "metadata": {},
   "outputs": [],
   "source": [
    "math_sub = ['мат. аналіз', 'лінійна алгебра','ятдр','дискр. математика','математична економіка', \n",
    "            'статистичні основи вебаналітики', 'обчислювальна геометрія', 'тймс', 'любий предмет міхалича']\n",
    "test_1_data = data.loc[data['Назва предмету, який вважаєш проф-орієнтованим'].isin(math_sub)][['Test#1', 'Предмет#2']]\n",
    "test_2_data = data[['Test#2: Гуманітарний предмет', 'Test#2: Аналіз даних']]\n",
    "test_3_data = data[['Професійні мотиви', 'Соціальні мотиви']]"
   ]
  },
  {
   "cell_type": "markdown",
   "metadata": {},
   "source": [
    "### Test1 та Оцінки з математики"
   ]
  },
  {
   "cell_type": "code",
   "execution_count": 8,
   "metadata": {},
   "outputs": [],
   "source": [
    "x_1 = test_1_data['Test#1'].values\n",
    "y_1 = test_1_data['Предмет#2'].values"
   ]
  },
  {
   "cell_type": "code",
   "execution_count": 9,
   "metadata": {},
   "outputs": [
    {
     "name": "stdout",
     "output_type": "stream",
     "text": [
      "My results\n",
      "Pearson corr   : 0.17667373207652126 p_value: 0.903637424639728\n",
      "Spearman corr  : 0.17832349586218477 p_value: None\n",
      "Kendall corr   : 0.11688311688311688 p_value: None\n",
      "\n",
      "Pearson corr  : 0.17667373207652134 p_value: 0.19272515072054316\n",
      "Spearman corr : 0.17832349586218477 p_value: 0.18853651129522364\n",
      "Kendall corr  : 0.13318608789476324 p_value: 0.1907658497839645\n"
     ]
    }
   ],
   "source": [
    "corr_pearson_my, p_value_pearson_my = pearson(x_1, y_1)\n",
    "corr_spearman_my, p_value_spearman_my = spearman(x_1, y_1)\n",
    "corr_kendall_my, p_value_kendall_my = kendall(x_1, y_1)\n",
    "\n",
    "\n",
    "print('My results')\n",
    "print(f'Pearson corr   : {corr_pearson_my} p_value: {p_value_pearson_my}')\n",
    "print(f'Spearman corr  : {corr_spearman_my} p_value: {p_value_spearman_my}')\n",
    "print(f'Kendall corr   : {corr_kendall_my} p_value: {p_value_kendall_my}')\n",
    "\n",
    "corr_pearson, p_value_pearson = stats.pearsonr(x_1, y_1)\n",
    "corr_spearman, p_value_spearman = stats.spearmanr(x_1, y_1)\n",
    "corr_kendall, p_value_kendall = stats.kendalltau(x_1, y_1)\n",
    "\n",
    "print()\n",
    "print(f'Pearson corr  : {corr_pearson} p_value: {p_value_pearson}')\n",
    "print(f'Spearman corr : {corr_spearman} p_value: {p_value_spearman}')\n",
    "print(f'Kendall corr  : {corr_kendall} p_value: {p_value_kendall}')"
   ]
  },
  {
   "cell_type": "markdown",
   "metadata": {},
   "source": [
    "### Test2 для математичного та гуманітрного предметів"
   ]
  },
  {
   "cell_type": "code",
   "execution_count": 10,
   "metadata": {},
   "outputs": [],
   "source": [
    "x_2 = test_2_data['Test#2: Гуманітарний предмет'].values\n",
    "y_2 = test_2_data['Test#2: Аналіз даних'].values"
   ]
  },
  {
   "cell_type": "code",
   "execution_count": 11,
   "metadata": {},
   "outputs": [
    {
     "name": "stdout",
     "output_type": "stream",
     "text": [
      "My results\n",
      "Pearson corr   : -0.1903838566857672 p_value: 0.027035854514929236\n",
      "Spearman corr  : -0.22297112757003354 p_value: None\n",
      "Kendall corr   : -0.14962878355225587 p_value: None\n",
      "\n",
      "Pearson corr  : -0.19038385668576724 p_value: 0.054071709029858576\n",
      "Spearman corr : -0.22297112757003357 p_value: 0.023581923556763123\n",
      "Kendall corr  : -0.17362512473050165 p_value: 0.02137301745649448\n"
     ]
    }
   ],
   "source": [
    "corr_pearson_my, p_value_pearson_my = pearson(x_2, y_2)\n",
    "corr_spearman_my, p_value_spearman_my = spearman(x_2, y_2)\n",
    "corr_kendall_my, p_value_kendall_my = kendall(x_2, y_2)\n",
    "\n",
    "\n",
    "print('My results')\n",
    "print(f'Pearson corr   : {corr_pearson_my} p_value: {p_value_pearson_my}')\n",
    "print(f'Spearman corr  : {corr_spearman_my} p_value: {p_value_spearman_my}')\n",
    "print(f'Kendall corr   : {corr_kendall_my} p_value: {p_value_kendall_my}')\n",
    "\n",
    "corr_pearson, p_value_pearson = stats.pearsonr(x_2, y_2)\n",
    "corr_spearman, p_value_spearman = stats.spearmanr(x_2, y_2)\n",
    "corr_kendall, p_value_kendall = stats.kendalltau(x_2, y_2)\n",
    "\n",
    "print()\n",
    "print(f'Pearson corr  : {corr_pearson} p_value: {p_value_pearson}')\n",
    "print(f'Spearman corr : {corr_spearman} p_value: {p_value_spearman}')\n",
    "print(f'Kendall corr  : {corr_kendall} p_value: {p_value_kendall}')"
   ]
  },
  {
   "cell_type": "markdown",
   "metadata": {},
   "source": [
    "### Test3 Професійні мотиви та Соціальні мотиви"
   ]
  },
  {
   "cell_type": "code",
   "execution_count": 12,
   "metadata": {},
   "outputs": [],
   "source": [
    "x_3 = test_3_data['Професійні мотиви'].values\n",
    "y_3 = test_3_data['Соціальні мотиви'].values"
   ]
  },
  {
   "cell_type": "code",
   "execution_count": 13,
   "metadata": {},
   "outputs": [
    {
     "name": "stdout",
     "output_type": "stream",
     "text": [
      "My results\n",
      "Pearson corr   : -0.003116304895110254 p_value: 0.48753861999535164\n",
      "Spearman corr  : 0.00460872217907573 p_value: None\n",
      "Kendall corr   : 0.011422044545973729 p_value: None\n",
      "\n",
      "Pearson corr  : -0.003116304895110257 p_value: 0.9750772399907084\n",
      "Spearman corr : 0.004608722179075731 p_value: 0.9631485887775919\n",
      "Kendall corr  : 0.012391683138849504 p_value: 0.8627881806857811\n"
     ]
    }
   ],
   "source": [
    "corr_pearson_my, p_value_pearson_my = pearson(x_3, y_3)\n",
    "corr_spearman_my, p_value_spearman_my = spearman(x_3, y_3)\n",
    "corr_kendall_my, p_value_kendall_my = kendall(x_3, y_3)\n",
    "\n",
    "\n",
    "print('My results')\n",
    "print(f'Pearson corr   : {corr_pearson_my} p_value: {p_value_pearson_my}')\n",
    "print(f'Spearman corr  : {corr_spearman_my} p_value: {p_value_spearman_my}')\n",
    "print(f'Kendall corr   : {corr_kendall_my} p_value: {p_value_kendall_my}')\n",
    "\n",
    "corr_pearson, p_value_pearson = stats.pearsonr(x_3, y_3)\n",
    "corr_spearman, p_value_spearman = stats.spearmanr(x_3, y_3)\n",
    "corr_kendall, p_value_kendall = stats.kendalltau(x_3, y_3)\n",
    "\n",
    "print()\n",
    "print(f'Pearson corr  : {corr_pearson} p_value: {p_value_pearson}')\n",
    "print(f'Spearman corr : {corr_spearman} p_value: {p_value_spearman}')\n",
    "print(f'Kendall corr  : {corr_kendall} p_value: {p_value_kendall}')"
   ]
  },
  {
   "cell_type": "code",
   "execution_count": null,
   "metadata": {},
   "outputs": [],
   "source": []
  }
 ],
 "metadata": {
  "kernelspec": {
   "display_name": "Python 3",
   "language": "python",
   "name": "python3"
  },
  "language_info": {
   "codemirror_mode": {
    "name": "ipython",
    "version": 3
   },
   "file_extension": ".py",
   "mimetype": "text/x-python",
   "name": "python",
   "nbconvert_exporter": "python",
   "pygments_lexer": "ipython3",
   "version": "3.7.3"
  }
 },
 "nbformat": 4,
 "nbformat_minor": 4
}
