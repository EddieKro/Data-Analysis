{
 "cells": [
  {
   "cell_type": "code",
   "execution_count": 1,
   "metadata": {},
   "outputs": [],
   "source": [
    "import numpy as np\n",
    "import pandas as pd\n",
    "import matplotlib.pyplot as plt\n",
    "from scipy import stats\n",
    "\n",
    "from calculator import *\n",
    "\n",
    "rank_methods = RankMethods()\n",
    "\n",
    "data = pd.read_csv('../data/res_evaluated.csv')\n",
    "pd.set_option('display.max_columns',200)"
   ]
  },
  {
   "cell_type": "markdown",
   "metadata": {},
   "source": [
    "3.1(Кореляційний аналіз):\n",
    "Взяти дві змінні для дослідження кореляційної залежності.<br>\n",
    "Для теста №1 за одну змінну взяти  дані деякої групи, в якості другої змінної взяти оцінки з математики <br>\n",
    "Для теста №2 за одну змінну взяти бали мотивації для математичного предмета, в якості другої змінної бали мотивації цих же студентів для гуманітарного предмета.<br>\n",
    "Для теста №3 за одну змінну взяти бали мотивації за шкалою “професійна діяльність”, в якості другої змінної бали мотивації цих же студентів для якоїсь іншої шкали.<br>"
   ]
  },
  {
   "cell_type": "code",
   "execution_count": 2,
   "metadata": {},
   "outputs": [],
   "source": [
    "test_1 = {'x': data.loc[data['Курс']==4]['Улюблений предмет'].values, 'y':data.loc[data['Курс']==4]['Оцінка з цього предмету:'].values}\n",
    "test_2 = {'x': data.loc[data['Курс']==4]['Test#2: Рівняння мат. фізики'].values, 'y':data.loc[data['Курс']==4]['Test#2: Технології прикладного програмування'].values}\n",
    "test_3 = {'x': data[data['Курс']==4]['Професійні мотиви'].values, 'y': data[data['Курс']==4]['Мотиви творчої самореалізації'].values}"
   ]
  },
  {
   "cell_type": "markdown",
   "metadata": {},
   "source": [
    "*\tЗнайти вибіркові коефіцієнту кореляції Пірсона, Спірмена та Кенделла та перевірити їхню значущість за допомогою параметричного критерію Пірсона та непараметричних Спірмена та Кенделла.\n",
    "*\tЗастосувати можливості Пайтона для знаходження коефіцієнту кореляції Пірсона, Спірмена та Кенделла і перевірки цих коефіцієнтів на значущість. "
   ]
  },
  {
   "cell_type": "code",
   "execution_count": 3,
   "metadata": {},
   "outputs": [],
   "source": [
    "def t_value(r,x):\n",
    "    \"\"\"\n",
    "    t_value with n-2 ddof under the null hypothesis\n",
    "    \"\"\"\n",
    "    n = x.shape[0]\n",
    "    return r * np.sqrt(n-2) / np.sqrt(1-r**2)\n",
    "def p_value_rho(r,x):\n",
    "    \"\"\"\n",
    "    corresponding p_value\n",
    "    \"\"\"\n",
    "    n = x.shape[0]\n",
    "    t = t_value(r,x)\n",
    "    return stats.t.sf(t,df=n-2)#1-t.cdf(t,n-2)"
   ]
  },
  {
   "cell_type": "code",
   "execution_count": 4,
   "metadata": {},
   "outputs": [],
   "source": [
    "def pearson_correlation(x,y):\n",
    "    \"\"\"\n",
    "    Pearson correlation coefficient r and p-value p for testing non-correlation\n",
    "    \"\"\"\n",
    "    def cov(x,y):\n",
    "        res = (x - mean(x))*(y-mean(y))\n",
    "        return res.sum()/(x.shape[0]-1)\n",
    "    \n",
    "    def corr(x,y):\n",
    "        return cov(x,y)/(stddev(x)*stddev(y))\n",
    "    \n",
    "    r = corr(x,y)\n",
    "    p = 2*(p_value_rho(r,x))\n",
    "    return r,p"
   ]
  },
  {
   "cell_type": "code",
   "execution_count": 5,
   "metadata": {},
   "outputs": [
    {
     "data": {
      "text/plain": [
       "(0.5115483144972256, 0.004563363106501617)"
      ]
     },
     "execution_count": 5,
     "metadata": {},
     "output_type": "execute_result"
    }
   ],
   "source": [
    "pearson_correlation(test_1['x'],test_1['y'])"
   ]
  },
  {
   "cell_type": "code",
   "execution_count": 6,
   "metadata": {},
   "outputs": [
    {
     "data": {
      "text/plain": [
       "(0.5115483144972258, 0.004563363106501603)"
      ]
     },
     "execution_count": 6,
     "metadata": {},
     "output_type": "execute_result"
    }
   ],
   "source": [
    "stats.pearsonr(test_1['x'],test_1['y'])"
   ]
  },
  {
   "cell_type": "code",
   "execution_count": 7,
   "metadata": {},
   "outputs": [],
   "source": [
    "def spearman_correlation(x,y):\n",
    "    \"\"\"\n",
    "    Spearman correlation coefficient r and p-value p for testing non-correlation\n",
    "    \"\"\"\n",
    "    def corr(x,y):\n",
    "        rank_x,rank_y = rank_methods.rank(x), rank_methods.rank(y)\n",
    "        if rank_methods.areDistinct(x,y):\n",
    "            ranks_sum,n = rank_methods.rank_difference_sum(rank_x,rank_y),x.shape[0]\n",
    "            return 1 - (6*ranks_sum)/(n**3-n)\n",
    "        return pearson_correlation(rank_x,rank_y)[0]\n",
    "\n",
    "    r = corr(x,y)\n",
    "    p = 2*(p_value_rho(r,x))\n",
    "    return r,p"
   ]
  },
  {
   "cell_type": "code",
   "execution_count": 8,
   "metadata": {},
   "outputs": [
    {
     "data": {
      "text/plain": [
       "(0.5412714348395539, 0.0024282474368559678)"
      ]
     },
     "execution_count": 8,
     "metadata": {},
     "output_type": "execute_result"
    }
   ],
   "source": [
    "spearman_correlation(test_1['x'],test_1['y'])"
   ]
  },
  {
   "cell_type": "code",
   "execution_count": 9,
   "metadata": {},
   "outputs": [
    {
     "data": {
      "text/plain": [
       "SpearmanrResult(correlation=0.5412714348395541, pvalue=0.0024282474368559556)"
      ]
     },
     "execution_count": 9,
     "metadata": {},
     "output_type": "execute_result"
    }
   ],
   "source": [
    "stats.spearmanr(test_1['x'],test_1['y'])"
   ]
  },
  {
   "cell_type": "code",
   "execution_count": 10,
   "metadata": {},
   "outputs": [],
   "source": [
    "def z_value_tau(r,x):\n",
    "    t,n = t_value(r,x), x.shape[0]\n",
    "    return 3 * t * np.sqrt(n**2-n) / np.sqrt(4*n+10)"
   ]
  },
  {
   "cell_type": "code",
   "execution_count": 14,
   "metadata": {},
   "outputs": [],
   "source": [
    "def kendall_correlation(x,y):\n",
    "    \"\"\"\n",
    "    Kendall correlation coefficient r and p-value p for testing non-correlation\n",
    "    \"\"\"\n",
    "    def corr(x,y):\n",
    "        n = x.shape[0]\n",
    "        concordant,discordant = concordant_discordant(y)\n",
    "        c,d,t,u = concordant_discordant_ties(x,y)\n",
    "        return (c-d)/np.sqrt((c+d+t)*(c+d+u))\n",
    "    \n",
    "    r = corr(x,y)\n",
    "    p = stats.norm.cdf(z_value_tau(r,x))\n",
    "    return r,p"
   ]
  },
  {
   "cell_type": "code",
   "execution_count": 15,
   "metadata": {},
   "outputs": [
    {
     "data": {
      "text/plain": [
       "(0.4586562835474408, 1.0)"
      ]
     },
     "execution_count": 15,
     "metadata": {},
     "output_type": "execute_result"
    }
   ],
   "source": [
    "kendall_correlation(test_1['x'],test_1['y'])"
   ]
  },
  {
   "cell_type": "code",
   "execution_count": 16,
   "metadata": {},
   "outputs": [
    {
     "data": {
      "text/plain": [
       "KendalltauResult(correlation=0.42971314287974627, pvalue=0.0030388458780621253)"
      ]
     },
     "execution_count": 16,
     "metadata": {},
     "output_type": "execute_result"
    }
   ],
   "source": [
    "stats.kendalltau(test_1['x'],test_1['y'])"
   ]
  },
  {
   "cell_type": "markdown",
   "metadata": {},
   "source": [
    "3.2(Регресійний аналіз):\n",
    "\n",
    "*\tПобудувати регресійну модель залежності однієї змінної  від іншої методом найменших квадратів та за умови відомого коефіцієнта кореляції Пірсона.\n",
    "*\tПобудувати регресійну модель в Пайтоні,  провести аналіз залишків різними методами. "
   ]
  },
  {
   "cell_type": "code",
   "execution_count": null,
   "metadata": {},
   "outputs": [],
   "source": [
    "from sklearn.base import BaseEstimator\n",
    "\n",
    "class OLS(BaseEstimator):\n",
    "    def __init__(self):\n",
    "        super(OLS,self).__init__()\n",
    "        \n",
    "    def fit(self,X,y=None):\n",
    "        self.r_,_ = pearson_correlation(X,y)\n",
    "        \n",
    "        self.beta_ = self.r_*stddev(y)/stddev(X)\n",
    "        self.alpha_ = mean(y) - mean(X)*self.beta_\n",
    "        return self\n",
    "        \n",
    "    def predict(self,X,y=None):\n",
    "        try:\n",
    "            getattr(self, \"beta_\")\n",
    "            getattr(self, \"alpha_\")\n",
    "        except AttributeError:\n",
    "            raise RuntimeError(\"You must train classifer before predicting data!\")\n",
    "        \n",
    "        return self.alpha_ + X*self.beta_"
   ]
  },
  {
   "cell_type": "code",
   "execution_count": null,
   "metadata": {},
   "outputs": [],
   "source": [
    "ols = OLS().fit(test_1['x'],test_1['y'])\n",
    "prediction = ols.predict(test_1['x'])\n",
    "print(f'slope:{ols.beta_:.4f},intercept:{ols.alpha_:.4f}')"
   ]
  },
  {
   "cell_type": "code",
   "execution_count": null,
   "metadata": {},
   "outputs": [],
   "source": [
    "plt.scatter(test_1['x'],test_1['y'])\n",
    "plt.plot(test_1['x'],prediction)"
   ]
  },
  {
   "cell_type": "code",
   "execution_count": null,
   "metadata": {},
   "outputs": [],
   "source": [
    "from sklearn.linear_model import LinearRegression\n",
    "from sklearn.metrics import mean_squared_error\n",
    "lr = LinearRegression().fit(test_1['x'].reshape(-1,1),test_1['y'].reshape(-1,1))\n",
    "print(f'slope:{lr.coef_[0][0]:.4f},intercept:{lr.intercept_[0]:.4f}\\nMSE: {mean_squared_error(prediction,test_1[\"x\"]):.4f}')"
   ]
  },
  {
   "cell_type": "code",
   "execution_count": null,
   "metadata": {},
   "outputs": [],
   "source": []
  }
 ],
 "metadata": {
  "kernelspec": {
   "display_name": "Python 3",
   "language": "python",
   "name": "python3"
  },
  "language_info": {
   "codemirror_mode": {
    "name": "ipython",
    "version": 3
   },
   "file_extension": ".py",
   "mimetype": "text/x-python",
   "name": "python",
   "nbconvert_exporter": "python",
   "pygments_lexer": "ipython3",
   "version": "3.7.3"
  }
 },
 "nbformat": 4,
 "nbformat_minor": 4
}
