{
 "cells": [
  {
   "cell_type": "code",
   "execution_count": 1,
   "metadata": {},
   "outputs": [],
   "source": [
    "import numpy as np\n",
    "import pandas as pd\n",
    "import matplotlib.pyplot as plt\n",
    "from scipy import stats\n",
    "\n",
    "from calculator import *\n",
    "\n",
    "data = pd.read_csv('../data/res_evaluated.csv')\n",
    "pd.set_option('display.max_columns',200)"
   ]
  },
  {
   "cell_type": "markdown",
   "metadata": {},
   "source": [
    "3.1(Кореляційний аналіз):\n",
    "Взяти дві змінні для дослідження кореляційної залежності.<br>\n",
    "Для теста №1 за одну змінну взяти  дані деякої групи, в якості другої змінної взяти оцінки з математики <br>\n",
    "Для теста №2 за одну змінну взяти бали мотивації для математичного предмета, в якості другої змінної бали мотивації цих же студентів для гуманітарного предмета.<br>\n",
    "Для теста №3 за одну змінну взяти бали мотивації за шкалою “професійна діяльність”, в якості другої змінної бали мотивації цих же студентів для якоїсь іншої шкали.<br>"
   ]
  },
  {
   "cell_type": "code",
   "execution_count": 2,
   "metadata": {},
   "outputs": [],
   "source": [
    "test_1 = {'x': data.loc[data['Курс']==4]['Улюблений предмет'].values, 'y':data.loc[data['Курс']==4]['Оцінка з цього предмету:'].values}\n",
    "test_2 = {'x': data.loc[data['Курс']==4]['Test#2: Рівняння мат. фізики'].values, 'y':data.loc[data['Курс']==4]['Test#2: Технології прикладного програмування'].values}\n",
    "test_3 = {'x': data[data['Курс']==4]['Професійні мотиви'].values, 'y': data[data['Курс']==4]['Мотиви творчої самореалізації'].values}"
   ]
  },
  {
   "cell_type": "markdown",
   "metadata": {},
   "source": [
    "*\tЗнайти вибіркові коефіцієнту кореляції Пірсона, Спірмена та Кенделла та перевірити їхню значущість за допомогою параметричного критерію Пірсона та непараметричних Спірмена та Кенделла.\n",
    "*\tЗастосувати можливості Пайтона для знаходження коефіцієнту кореляції Пірсона, Спірмена та Кенделла і перевірки цих коефіцієнтів на значущість. "
   ]
  },
  {
   "cell_type": "code",
   "execution_count": 3,
   "metadata": {},
   "outputs": [],
   "source": [
    "def pearson_correlation(x,y):\n",
    "    \"\"\"\n",
    "    Pearson correlation coefficient r and p-value p for testing non-correlation\n",
    "    \"\"\"\n",
    "    def cov(x,y):\n",
    "        res = (x - mean(x))*(y-mean(y))\n",
    "        return res.sum()/(x.shape[0]-1)\n",
    "    \n",
    "    def corr(x,y):\n",
    "        return cov(x,y)/(stddev(x)*stddev(y))\n",
    "    \n",
    "    def t_value(r,x):\n",
    "        n = x.shape[0]\n",
    "        return r * np.sqrt(n-2) / np.sqrt(1-r**2)\n",
    "    \n",
    "    def p_value(r,x):\n",
    "        n = x.shape[0]\n",
    "        t = t_value(r,x)\n",
    "        \n",
    "        return stats.t.sf(t,df=n-2)#1-t.cdf(t,n-2)\n",
    "    \n",
    "    r = corr(x,y)\n",
    "    p = 2*(p_value(r,x))\n",
    "    return r,p"
   ]
  },
  {
   "cell_type": "code",
   "execution_count": 4,
   "metadata": {},
   "outputs": [
    {
     "data": {
      "text/plain": [
       "(0.5115483144972256, 0.004563363106501617)"
      ]
     },
     "execution_count": 4,
     "metadata": {},
     "output_type": "execute_result"
    }
   ],
   "source": [
    "pearson_correlation(test_1['x'],test_1['y'])"
   ]
  },
  {
   "cell_type": "code",
   "execution_count": 5,
   "metadata": {},
   "outputs": [
    {
     "data": {
      "text/plain": [
       "(0.5115483144972258, 0.004563363106501603)"
      ]
     },
     "execution_count": 5,
     "metadata": {},
     "output_type": "execute_result"
    }
   ],
   "source": [
    "stats.pearsonr(test_1['x'],test_1['y'])"
   ]
  },
  {
   "cell_type": "code",
   "execution_count": 6,
   "metadata": {},
   "outputs": [],
   "source": [
    "def spearman_correlation(x,y):\n",
    "    \"\"\"\n",
    "    Spearman correlation coefficient r and p-value p for testing non-correlation\n",
    "    \"\"\"\n",
    "    def corr(x,y):\n",
    "        n = x.shape[0]\n",
    "        rank_data=42\n",
    "        return 1 - (6*rank_data)/(n**3-n)\n",
    "    \n",
    "\n",
    "    \n",
    "    r = corr(x,y)\n",
    "    p = 0\n",
    "    return r,p"
   ]
  },
  {
   "cell_type": "code",
   "execution_count": 7,
   "metadata": {},
   "outputs": [],
   "source": [
    "def kendall_correlation(x,y):\n",
    "    \"\"\"\n",
    "    Kendall correlation coefficient r and p-value p for testing non-correlation\n",
    "    \"\"\"\n",
    "    def corr(x,y):\n",
    "        n = x.shape[0]\n",
    "        R = 42\n",
    "        \n",
    "        return 4*R/(n**2-n) - 1\n",
    "    \n",
    "    r = corr(x,y)\n",
    "    p = 0\n",
    "    return r,p"
   ]
  },
  {
   "cell_type": "code",
   "execution_count": 8,
   "metadata": {},
   "outputs": [
    {
     "data": {
      "text/plain": [
       "(0.9896551724137931, 0)"
      ]
     },
     "execution_count": 8,
     "metadata": {},
     "output_type": "execute_result"
    }
   ],
   "source": [
    "spearman_correlation(test_1['x'],test_1['y'])"
   ]
  },
  {
   "cell_type": "code",
   "execution_count": 10,
   "metadata": {},
   "outputs": [
    {
     "data": {
      "text/plain": [
       "SpearmanrResult(correlation=0.5412714348395541, pvalue=0.0024282474368559556)"
      ]
     },
     "execution_count": 10,
     "metadata": {},
     "output_type": "execute_result"
    }
   ],
   "source": [
    "stats.spearmanr(test_1['x'],test_1['y'])"
   ]
  },
  {
   "cell_type": "code",
   "execution_count": 11,
   "metadata": {},
   "outputs": [
    {
     "data": {
      "text/plain": [
       "KendalltauResult(correlation=0.42971314287974627, pvalue=0.0030388458780621253)"
      ]
     },
     "execution_count": 11,
     "metadata": {},
     "output_type": "execute_result"
    }
   ],
   "source": [
    "stats.kendalltau(test_1['x'],test_1['y'])"
   ]
  },
  {
   "cell_type": "markdown",
   "metadata": {},
   "source": [
    "3.2(Регресійний аналіз):\n",
    "\n",
    "*\tПобудувати регресійну модель залежності однієї змінної  від іншої методом найменших квадратів та за умови відомого коефіцієнта кореляції Пірсона.\n",
    "*\tПобудувати регресійну модель в Пайтоні,  провести аналіз залишків різними методами. "
   ]
  },
  {
   "cell_type": "code",
   "execution_count": 12,
   "metadata": {},
   "outputs": [],
   "source": [
    "from sklearn.base import BaseEstimator\n",
    "\n",
    "class OLS(BaseEstimator):\n",
    "    def __init__(self):\n",
    "        super(OLS,self).__init__()\n",
    "        \n",
    "    def fit(self,X,y=None):\n",
    "        self.r_,_ = pearson_correlation(X,y)\n",
    "        \n",
    "        self.beta_ = self.r_*stddev(y)/stddev(X)\n",
    "        self.alpha_ = mean(y) - mean(X)*self.beta_\n",
    "        return self\n",
    "        \n",
    "    def predict(self,X,y=None):\n",
    "        try:\n",
    "            getattr(self, \"beta_\")\n",
    "            getattr(self, \"alpha_\")\n",
    "        except AttributeError:\n",
    "            raise RuntimeError(\"You must train classifer before predicting data!\")\n",
    "        \n",
    "        return self.alpha_ + X*self.beta_"
   ]
  },
  {
   "cell_type": "code",
   "execution_count": 13,
   "metadata": {},
   "outputs": [
    {
     "name": "stdout",
     "output_type": "stream",
     "text": [
      "slope:0.5015,intercept:49.4877\n"
     ]
    }
   ],
   "source": [
    "ols = OLS().fit(test_1['x'],test_1['y'])\n",
    "prediction = ols.predict(test_1['x'])\n",
    "print(f'slope:{ols.beta_:.4f},intercept:{ols.alpha_:.4f}')"
   ]
  },
  {
   "cell_type": "code",
   "execution_count": 14,
   "metadata": {},
   "outputs": [
    {
     "data": {
      "text/plain": [
       "[<matplotlib.lines.Line2D at 0x13cb61c0898>]"
      ]
     },
     "execution_count": 14,
     "metadata": {},
     "output_type": "execute_result"
    },
    {
     "data": {
      "image/png": "[encoded data removed]",
      "text/plain": [
       "<Figure size 432x288 with 1 Axes>"
      ]
     },
     "metadata": {
      "needs_background": "light"
     },
     "output_type": "display_data"
    }
   ],
   "source": [
    "plt.scatter(test_1['x'],test_1['y'])\n",
    "plt.plot(test_1['x'],prediction)"
   ]
  },
  {
   "cell_type": "code",
   "execution_count": 15,
   "metadata": {},
   "outputs": [
    {
     "name": "stdout",
     "output_type": "stream",
     "text": [
      "slope:0.5015,intercept:49.4877\n",
      "MSE: 182.5456\n"
     ]
    }
   ],
   "source": [
    "from sklearn.linear_model import LinearRegression\n",
    "from sklearn.metrics import mean_squared_error\n",
    "lr = LinearRegression().fit(test_1['x'].reshape(-1,1),test_1['y'].reshape(-1,1))\n",
    "print(f'slope:{lr.coef_[0][0]:.4f},intercept:{lr.intercept_[0]:.4f}\\nMSE: {mean_squared_error(prediction,test_1[\"x\"]):.4f}')"
   ]
  },
  {
   "cell_type": "code",
   "execution_count": null,
   "metadata": {},
   "outputs": [],
   "source": []
  }
 ],
 "metadata": {
  "kernelspec": {
   "display_name": "Python 3",
   "language": "python",
   "name": "python3"
  },
  "language_info": {
   "codemirror_mode": {
    "name": "ipython",
    "version": 3
   },
   "file_extension": ".py",
   "mimetype": "text/x-python",
   "name": "python",
   "nbconvert_exporter": "python",
   "pygments_lexer": "ipython3",
   "version": "3.7.3"
  }
 },
 "nbformat": 4,
 "nbformat_minor": 4
}
