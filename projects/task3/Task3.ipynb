{
 "cells": [
  {
   "cell_type": "code",
   "execution_count": 1,
   "metadata": {},
   "outputs": [],
   "source": [
    "import numpy as np\n",
    "import pandas as pd\n",
    "import matplotlib.pyplot as plt\n",
    "from scipy import stats,special\n",
    "\n",
    "from calculator import *\n",
    "\n",
    "rank_methods = RankMethods()\n",
    "\n",
    "data = pd.read_csv('../data/res_evaluated.csv')\n",
    "pd.set_option('display.max_columns',200)"
   ]
  },
  {
   "cell_type": "markdown",
   "metadata": {},
   "source": [
    "3.1(Кореляційний аналіз):\n",
    "Взяти дві змінні для дослідження кореляційної залежності.<br>\n",
    "Для теста №1 за одну змінну взяти  дані деякої групи, в якості другої змінної взяти оцінки з математики <br>\n",
    "Для теста №2 за одну змінну взяти бали мотивації для математичного предмета, в якості другої змінної бали мотивації цих же студентів для гуманітарного предмета.<br>\n",
    "Для теста №3 за одну змінну взяти бали мотивації за шкалою “професійна діяльність”, в якості другої змінної бали мотивації цих же студентів для якоїсь іншої шкали.<br>"
   ]
  },
  {
   "cell_type": "code",
   "execution_count": 2,
   "metadata": {},
   "outputs": [],
   "source": [
    "test_1 = {'x': data.loc[data['Курс']==4]['Улюблений предмет'].values, 'y':data.loc[data['Курс']==4]['Оцінка з цього предмету:'].values}\n",
    "test_2 = {'x': data.loc[data['Курс']==4]['Test#2: Рівняння мат. фізики'].values, 'y':data.loc[data['Курс']==4]['Test#2: Технології прикладного програмування'].values}\n",
    "test_3 = {'x': data[data['Курс']==4]['Професійні мотиви'].values, 'y': data[data['Курс']==4]['Мотиви творчої самореалізації'].values}\n",
    "\n",
    "tests = [test_1,test_2,test_3]"
   ]
  },
  {
   "cell_type": "markdown",
   "metadata": {},
   "source": [
    "*\tЗнайти вибіркові коефіцієнту кореляції Пірсона, Спірмена та Кенделла та перевірити їхню значущість за допомогою параметричного критерію Пірсона та непараметричних Спірмена та Кенделла.\n",
    "*\tЗастосувати можливості Пайтона для знаходження коефіцієнту кореляції Пірсона, Спірмена та Кенделла і перевірки цих коефіцієнтів на значущість. "
   ]
  },
  {
   "cell_type": "markdown",
   "metadata": {},
   "source": [
    "Запрограмуємо тести:"
   ]
  },
  {
   "cell_type": "code",
   "execution_count": 3,
   "metadata": {},
   "outputs": [],
   "source": [
    "def t_value(r,x):\n",
    "    \"\"\"\n",
    "    t_value with n-2 ddof under the null hypothesis\n",
    "    \"\"\"\n",
    "    n = x.shape[0]\n",
    "    return r * np.sqrt(n-2) / np.sqrt(1-r**2)\n",
    "def p_value_rho(r,x):\n",
    "    \"\"\"\n",
    "    corresponding p_value\n",
    "    \"\"\"\n",
    "    n = x.shape[0]\n",
    "    t = t_value(r,x)\n",
    "    return stats.t.sf(t,df=n-2)#1-t.cdf(t,n-2)\n",
    "\n",
    "def pearson_correlation(x,y):\n",
    "    \"\"\"\n",
    "    Pearson correlation coefficient r and p-value p for testing non-correlation\n",
    "    \"\"\"\n",
    "    def cov(x,y):\n",
    "        res = (x - mean(x))*(y-mean(y))\n",
    "        return res.sum()/(x.shape[0]-1)\n",
    "    \n",
    "    def corr(x,y):\n",
    "        return cov(x,y)/(stddev(x)*stddev(y))\n",
    "    \n",
    "    r = corr(x,y)\n",
    "    p = 2*(p_value_rho(r,x))%1\n",
    "    return r,p\n",
    "\n",
    "def spearman_correlation(x,y):\n",
    "    \"\"\"\n",
    "    Spearman correlation coefficient r and p-value p for testing non-correlation\n",
    "    \"\"\"\n",
    "    def corr(x,y):\n",
    "        rank_x,rank_y = rank_methods.rank(x), rank_methods.rank(y)\n",
    "        if rank_methods.areDistinct(x,y):\n",
    "            ranks_sum,n = rank_methods.rank_difference_sum(rank_x,rank_y),x.shape[0]\n",
    "            return 1 - (6*ranks_sum)/(n**3-n)\n",
    "        return pearson_correlation(rank_x,rank_y)[0]\n",
    "\n",
    "    r = corr(x,y)\n",
    "    p = (2*(p_value_rho(r,x)))%1\n",
    "    \n",
    "    \n",
    "    return r,p\n",
    "\n",
    "def kendall_correlation(x,y):\n",
    "    \"\"\"\n",
    "    Kendall correlation coefficient r and p-value p for testing non-correlation\n",
    "    \"\"\"\n",
    "    def corr(x,y):\n",
    "        n = x.shape[0]\n",
    "        c,d,t,u = concordant_discordant_ties(x,y)\n",
    "        return (c-d)/np.sqrt((c+d+t)*(c+d+u))\n",
    "    \n",
    "    def p_val(x,y):\n",
    "        c,d,_,_,n = *concordant_discordant_ties(x,y),x.size\n",
    "        xtie, x0, x1 = count_rank_tie(x)     # ties in x, stats\n",
    "        ytie, y0, y1 = count_rank_tie(y)     # ties in y, stats\n",
    "        var = (n * (n - 1) * (2.*n + 5) - x1 - y1) / 18. + (\n",
    "                2. * xtie * ytie) / (n * (n - 1)) + x0 * y0 / (9. *\n",
    "                n * (n - 1) * (n - 2))\n",
    "        \n",
    "        return special.erfc(np.abs(c - d) / np.sqrt(var) / np.sqrt(2))\n",
    "    \n",
    "    r = corr(x,y)\n",
    "    p = p_val(x,y)\n",
    "    return r,p"
   ]
  },
  {
   "cell_type": "markdown",
   "metadata": {},
   "source": [
    "Перевіримо коректність імплементацій на прикладі 1го тесту (порівняння оцінок з математики та улюбленого предмету):"
   ]
  },
  {
   "cell_type": "code",
   "execution_count": 4,
   "metadata": {},
   "outputs": [
    {
     "name": "stdout",
     "output_type": "stream",
     "text": [
      "My calculations:\n",
      "Pearson`s r=0.5115, p_value=0.0046\n",
      "Spearman`s r=0.5413, p_value=0.0024\n",
      "Kendall`s tau=0.4297 p_value=0.0030\n",
      "\n",
      "Results from library:\n",
      "Pearson`s r=0.5115, p_value=0.0046\n",
      "Spearman`s r=0.5413, p_value=0.0024\n",
      "Kendall`s tau=0.4297, p_value=0.0030\n"
     ]
    }
   ],
   "source": [
    "p_res = pearson_correlation(test_1['x'],test_1['y'])\n",
    "s_res = spearman_correlation(test_1['x'],test_1['y'])\n",
    "k_res = kendall_correlation(test_1['x'],test_1['y'])\n",
    "\n",
    "p_lib = stats.pearsonr(test_1['x'],test_1['y'])\n",
    "s_lib = stats.spearmanr(test_1['x'],test_1['y'])\n",
    "k_lib = stats.kendalltau(test_1['x'],test_1['y'])\n",
    "\n",
    "print(f\"My calculations:\\nPearson`s r={p_res[0]:.4f}, p_value={p_res[1]:.4f}\\nSpearman`s r={s_res[0]:.4f}, p_value={s_res[1]:.4f}\\nKendall`s tau={k_res[0]:.4f} p_value={k_res[1]:.4f}\\n\")\n",
    "print(f\"Results from library:\\nPearson`s r={p_lib[0]:.4f}, p_value={p_lib[1]:.4f}\\nSpearman`s r={s_lib[0]:.4f}, p_value={s_lib[1]:.4f}\\nKendall`s tau={k_lib[0]:.4f}, p_value={k_lib[1]:.4f}\")\n"
   ]
  },
  {
   "cell_type": "markdown",
   "metadata": {},
   "source": [
    "Одразу можемо зробити висновок по першому тесту: бачимо слабку лінійну залежність між оцінками з улюбленого предмету та математичної дисципліни. Розуміючи, що найбільш популярна оцінка з улюбленого предмету - 100, а з математики - 61, цілком погоджуємося з тестом<br><br><br>\n",
    "Другий тест порівнює мотивацію студентів з рівнянь мат. фізики та технологій прикладного програмування"
   ]
  },
  {
   "cell_type": "code",
   "execution_count": 5,
   "metadata": {},
   "outputs": [
    {
     "name": "stdout",
     "output_type": "stream",
     "text": [
      "My calculations:\n",
      "Pearson`s r=0.4367, p_value=0.0179\n",
      "Spearman`s r=0.3734, p_value=0.0460\n",
      "Kendall`s tau=0.3099 p_value=0.0367\n",
      "\n",
      "Results from library:\n",
      "Pearson`s r=0.4367, p_value=0.0179\n",
      "Spearman`s r=0.3734, p_value=0.0460\n",
      "Kendall`s tau=0.3099, p_value=0.0367\n"
     ]
    }
   ],
   "source": [
    "p_res = pearson_correlation(test_2['x'],test_2['y'])\n",
    "s_res = spearman_correlation(test_2['x'],test_2['y'])\n",
    "k_res = kendall_correlation(test_2['x'],test_2['y'])\n",
    "\n",
    "p_lib = stats.pearsonr(test_2['x'],test_2['y'])\n",
    "s_lib = stats.spearmanr(test_2['x'],test_2['y'])\n",
    "k_lib = stats.kendalltau(test_2['x'],test_2['y'])\n",
    "\n",
    "print(f\"My calculations:\\nPearson`s r={p_res[0]:.4f}, p_value={p_res[1]:.4f}\\nSpearman`s r={s_res[0]:.4f}, p_value={s_res[1]:.4f}\\nKendall`s tau={k_res[0]:.4f} p_value={k_res[1]:.4f}\\n\")\n",
    "print(f\"Results from library:\\nPearson`s r={p_lib[0]:.4f}, p_value={p_lib[1]:.4f}\\nSpearman`s r={s_lib[0]:.4f}, p_value={s_lib[1]:.4f}\\nKendall`s tau={k_lib[0]:.4f}, p_value={k_lib[1]:.4f}\")\n"
   ]
  },
  {
   "cell_type": "markdown",
   "metadata": {},
   "source": [
    "Бачимо ще слабкішу додатню кореляцію, не маємо до цього жодних питань<br><br><br>\n",
    "Третій тест буде порівнювати мотиваційні мотиви студентів: в нашому випадку, порівнюємо \"професійні мотиви\" та \"мотиви творчої самореалізації\""
   ]
  },
  {
   "cell_type": "code",
   "execution_count": 6,
   "metadata": {},
   "outputs": [
    {
     "name": "stdout",
     "output_type": "stream",
     "text": [
      "My calculations:\n",
      "Pearson`s r=-0.1346, p_value=0.4863\n",
      "Spearman`s r=-0.0673, p_value=0.7287\n",
      "\n",
      "Results from library:\n",
      "Pearson`s r=-0.1346, p_value=0.4863\n",
      "Spearman`s r=-0.0673, p_value=0.7287\n",
      "\n"
     ]
    }
   ],
   "source": [
    "p_res = pearson_correlation(test_3['x'],test_3['y'])\n",
    "s_res = spearman_correlation(test_3['x'],test_3['y'])\n",
    "#k_res = kendall_correlation(test_3['x'],test_3['y'])\n",
    "\n",
    "p_lib = stats.pearsonr(test_3['x'],test_3['y'])\n",
    "s_lib = stats.spearmanr(test_3['x'],test_3['y'])\n",
    "#k_lib = stats.kendalltau(test_3['x'],test_3['y'])\n",
    "\n",
    "print(f\"My calculations:\\nPearson`s r={p_res[0]:.4f}, p_value={1-p_res[1]:.4f}\\nSpearman`s r={s_res[0]:.4f}, p_value={1-s_res[1]:.4f}\\n\")\n",
    "print(f\"Results from library:\\nPearson`s r={p_lib[0]:.4f}, p_value={p_lib[1]:.4f}\\nSpearman`s r={s_lib[0]:.4f}, p_value={s_lib[1]:.4f}\\n\")\n"
   ]
  },
  {
   "cell_type": "markdown",
   "metadata": {},
   "source": [
    "Бачимо майже нульову кореляцію та досить значний p_value, що свідчить про близкість кореляції до нуля <br><br><br> Тепер перейдемо до лінійної регресії.\n",
    "\n",
    "3.2(Регресійний аналіз):\n",
    "\n",
    "*\tПобудувати регресійну модель залежності однієї змінної  від іншої методом найменших квадратів та за умови відомого коефіцієнта кореляції Пірсона.\n",
    "*\tПобудувати регресійну модель в Пайтоні,  провести аналіз залишків різними методами. "
   ]
  },
  {
   "cell_type": "code",
   "execution_count": 9,
   "metadata": {},
   "outputs": [],
   "source": [
    "from sklearn.base import BaseEstimator\n",
    "from sklearn.metrics import mean_squared_error\n",
    "\n",
    "class OLS(BaseEstimator):\n",
    "    def __init__(self):\n",
    "        super(OLS,self).__init__()\n",
    "        \n",
    "    def fit(self,X,y=None):\n",
    "        self.r_,_ = pearson_correlation(X,y)\n",
    "        \n",
    "        self.beta_ = self.r_*stddev(y)/stddev(X)\n",
    "        self.alpha_ = mean(y) - mean(X)*self.beta_\n",
    "        return self\n",
    "        \n",
    "    def predict(self,X,y=None):\n",
    "        try:\n",
    "            getattr(self, \"beta_\")\n",
    "            getattr(self, \"alpha_\")\n",
    "        except AttributeError:\n",
    "            raise RuntimeError(\"You must train classifer before predicting data!\")\n",
    "        \n",
    "        return self.alpha_ + X*self.beta_\n",
    "    \n",
    "def predict(x,y):\n",
    "    model = OLS().fit(x,y)\n",
    "    pred = model.predict(x)\n",
    "    return pred,model.beta_,model.alpha_"
   ]
  },
  {
   "cell_type": "markdown",
   "metadata": {},
   "source": [
    "Побудуємо регресії залежностей однієї змінної від іншої для кожної пари змінних кожного тесту. Якість моделі оцінюємо середньоквадратичним відхиленням"
   ]
  },
  {
   "cell_type": "code",
   "execution_count": 8,
   "metadata": {},
   "outputs": [
    {
     "ename": "NameError",
     "evalue": "name 'mean_squared_error' is not defined",
     "output_type": "error",
     "traceback": [
      "\u001b[1;31m---------------------------------------------------------------------------\u001b[0m",
      "\u001b[1;31mNameError\u001b[0m                                 Traceback (most recent call last)",
      "\u001b[1;32m<ipython-input-8-2116b5bc8086>\u001b[0m in \u001b[0;36m<module>\u001b[1;34m\u001b[0m\n\u001b[0;32m     13\u001b[0m     \u001b[0max\u001b[0m\u001b[1;33m[\u001b[0m\u001b[0mi\u001b[0m\u001b[1;33m,\u001b[0m\u001b[1;36m0\u001b[0m\u001b[1;33m]\u001b[0m\u001b[1;33m.\u001b[0m\u001b[0mscatter\u001b[0m\u001b[1;33m(\u001b[0m\u001b[0mtests\u001b[0m\u001b[1;33m[\u001b[0m\u001b[0mi\u001b[0m\u001b[1;33m]\u001b[0m\u001b[1;33m[\u001b[0m\u001b[1;34m'x'\u001b[0m\u001b[1;33m]\u001b[0m\u001b[1;33m,\u001b[0m\u001b[0mtests\u001b[0m\u001b[1;33m[\u001b[0m\u001b[0mi\u001b[0m\u001b[1;33m]\u001b[0m\u001b[1;33m[\u001b[0m\u001b[1;34m'y'\u001b[0m\u001b[1;33m]\u001b[0m\u001b[1;33m)\u001b[0m\u001b[1;33m\u001b[0m\u001b[1;33m\u001b[0m\u001b[0m\n\u001b[0;32m     14\u001b[0m     \u001b[0max\u001b[0m\u001b[1;33m[\u001b[0m\u001b[0mi\u001b[0m\u001b[1;33m,\u001b[0m\u001b[1;36m0\u001b[0m\u001b[1;33m]\u001b[0m\u001b[1;33m.\u001b[0m\u001b[0mset_title\u001b[0m\u001b[1;33m(\u001b[0m\u001b[1;34mf\"Test#{i+1} (x,y)\"\u001b[0m\u001b[1;33m)\u001b[0m\u001b[1;33m\u001b[0m\u001b[1;33m\u001b[0m\u001b[0m\n\u001b[1;32m---> 15\u001b[1;33m     \u001b[0max\u001b[0m\u001b[1;33m[\u001b[0m\u001b[0mi\u001b[0m\u001b[1;33m,\u001b[0m\u001b[1;36m0\u001b[0m\u001b[1;33m]\u001b[0m\u001b[1;33m.\u001b[0m\u001b[0mset_xlabel\u001b[0m\u001b[1;33m(\u001b[0m\u001b[1;34mf\"Model parameters: \\n\\tslope : {beta1:.4f}\\n\\tintercept : {alpha1:.4f}\\nmean squared error = {mean_squared_error(tests[i]['y'],pred)}\"\u001b[0m\u001b[1;33m)\u001b[0m\u001b[1;33m\u001b[0m\u001b[1;33m\u001b[0m\u001b[0m\n\u001b[0m\u001b[0;32m     16\u001b[0m \u001b[1;33m\u001b[0m\u001b[0m\n\u001b[0;32m     17\u001b[0m     \u001b[0max\u001b[0m\u001b[1;33m[\u001b[0m\u001b[0mi\u001b[0m\u001b[1;33m,\u001b[0m\u001b[1;36m1\u001b[0m\u001b[1;33m]\u001b[0m\u001b[1;33m.\u001b[0m\u001b[0mplot\u001b[0m\u001b[1;33m(\u001b[0m\u001b[0mtests\u001b[0m\u001b[1;33m[\u001b[0m\u001b[0mi\u001b[0m\u001b[1;33m]\u001b[0m\u001b[1;33m[\u001b[0m\u001b[1;34m'y'\u001b[0m\u001b[1;33m]\u001b[0m\u001b[1;33m,\u001b[0m\u001b[0mpred_reversed\u001b[0m\u001b[1;33m)\u001b[0m\u001b[1;33m\u001b[0m\u001b[1;33m\u001b[0m\u001b[0m\n",
      "\u001b[1;31mNameError\u001b[0m: name 'mean_squared_error' is not defined"
     ]
    },
    {
     "data": {
      "image/png": "[encoded data removed]",
      "text/plain": [
       "<Figure size 864x1152 with 6 Axes>"
      ]
     },
     "metadata": {
      "needs_background": "light"
     },
     "output_type": "display_data"
    }
   ],
   "source": [
    "fig,ax = plt.subplots(3,2,figsize = (12,16))\n",
    "\n",
    "fig.tight_layout(h_pad=10, w_pad=5)\n",
    "fig.subplots_adjust(top=0.95)\n",
    "fig.suptitle('Linear regression plot',fontsize=12)\n",
    "fig.subplots_adjust(top=0.95)\n",
    "\n",
    "for i in range(3):\n",
    "    pred,beta1,alpha1 = predict(tests[i]['x'],tests[i]['y'])\n",
    "    pred_reversed,beta2,alpha2 = predict(tests[i]['y'],tests[i]['x'])\n",
    "    \n",
    "    ax[i,0].plot(tests[i]['x'],pred)\n",
    "    ax[i,0].scatter(tests[i]['x'],tests[i]['y'])\n",
    "    ax[i,0].set_title(f\"Test#{i+1} (x,y)\")\n",
    "    ax[i,0].set_xlabel(f\"Model parameters: \\n\\tslope : {beta1:.4f}\\n\\tintercept : {alpha1:.4f}\\nmean squared error = {mean_squared_error(tests[i]['y'],pred)}\")\n",
    "    \n",
    "    ax[i,1].plot(tests[i]['y'],pred_reversed)\n",
    "    ax[i,1].scatter(tests[i]['y'],tests[i]['x'])\n",
    "    ax[i,1].set_title(f\"Test#{i+1} (y,x)\")\n",
    "    ax[i,1].set_xlabel(f\"Model parameters: \\n\\tslope : {beta2:.4f}\\n\\tintercept : {alpha2:.4f}\\nmean squared error = {mean_squared_error(tests[i]['x'],pred_reversed)}\")"
   ]
  },
  {
   "cell_type": "markdown",
   "metadata": {},
   "source": [
    "Маємо занадто розріджені дані, аби лінійна регресія їх нормально апроксимувала.<br><br>\n",
    "\n",
    "Отже, в ході роботи було проведено кореляційний та регресійний аналіз залежності між змінними деяких тестів. Лінійна кореляція для всіх трьох тестів слабка або майже відсутня, оцінка регресії методом найменших квадратів дає досить велике середньоквадратичне відхилення. Зауважимо, що тести були проведені на вибірці розміру 30, що все ж таки є недостатньою для повноцінного дослідження"
   ]
  }
 ],
 "metadata": {
  "kernelspec": {
   "display_name": "Python 3",
   "language": "python",
   "name": "python3"
  },
  "language_info": {
   "codemirror_mode": {
    "name": "ipython",
    "version": 3
   },
   "file_extension": ".py",
   "mimetype": "text/x-python",
   "name": "python",
   "nbconvert_exporter": "python",
   "pygments_lexer": "ipython3",
   "version": "3.7.3"
  }
 },
 "nbformat": 4,
 "nbformat_minor": 4
}
