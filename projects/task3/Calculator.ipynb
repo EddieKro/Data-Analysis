{
 "cells": [
  {
   "cell_type": "code",
   "execution_count": 4,
   "metadata": {},
   "outputs": [],
   "source": [
    "import numpy as np\n",
    "import pandas as pd\n",
    "\n",
    "def mean(X):\n",
    "    return X.sum()/X.shape[0]\n",
    "\n",
    "def expected_value(X):\n",
    "    return X.mean()\n",
    "\n",
    "def variance(X,ddof=1):\n",
    "    \"\"\"    \n",
    "    Compute the variance; dedicated to @craq21\n",
    "    Calculates variance,a measure of spread of a distribution\n",
    "    \n",
    "    Arguments:\n",
    "        X - pd.Series or pd.DataFrame\n",
    "        ddof - delta degrees of freedom; 1 by default for calculating sample variance, 0 for maximum likelihood estimate of the variance for normally distributed variables\n",
    "    \n",
    "    Returns:\n",
    "        variance\n",
    "    \"\"\"\n",
    "    mu = mean(X)\n",
    "    diffx = X-mu\n",
    "    return  (np.sum(diffx**2))/(X.shape[0]-ddof)\n",
    "\n",
    "def stddev(X):\n",
    "    return variance(X)**0.5\n",
    "\n",
    "def cov(x,y):\n",
    "    res = (x - mean(x))*(y-mean(y))\n",
    "    return res.sum()/(x.shape[0]-1)"
   ]
  },
  {
   "cell_type": "code",
   "execution_count": null,
   "metadata": {},
   "outputs": [],
   "source": []
  }
 ],
 "metadata": {
  "kernelspec": {
   "display_name": "Python 3",
   "language": "python",
   "name": "python3"
  },
  "language_info": {
   "codemirror_mode": {
    "name": "ipython",
    "version": 3
   },
   "file_extension": ".py",
   "mimetype": "text/x-python",
   "name": "python",
   "nbconvert_exporter": "python",
   "pygments_lexer": "ipython3",
   "version": "3.7.3"
  }
 },
 "nbformat": 4,
 "nbformat_minor": 4
}
